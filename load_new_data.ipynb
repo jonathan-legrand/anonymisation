{
 "cells": [
  {
   "cell_type": "code",
   "execution_count": 3,
   "metadata": {},
   "outputs": [],
   "source": [
    "import flowkit as fk\n",
    "\n",
    "sample = fk.Sample(\"mock_output/id-35129425_source-comp.fcs\")"
   ]
  },
  {
   "cell_type": "code",
   "execution_count": 7,
   "metadata": {},
   "outputs": [],
   "source": [
    "from bokeh.io import show\n",
    "logicle_xform = fk.transforms.LogicleTransform(\n",
    "    param_t=262144,\n",
    "    param_w=0.5,\n",
    "    param_m=4.5,\n",
    "    param_a=0\n",
    ")\n",
    "sample.apply_transform(logicle_xform)\n",
    "\n",
    "p = sample.plot_scatter_matrix(source=\"xform\")\n",
    "show(p)"
   ]
  },
  {
   "cell_type": "code",
   "execution_count": 10,
   "metadata": {},
   "outputs": [],
   "source": [
    "lmap = {\n",
    "    key: value for key, value in zip(sample.pns_labels, sample.pnn_labels)\n",
    "}"
   ]
  },
  {
   "cell_type": "code",
   "execution_count": 11,
   "metadata": {},
   "outputs": [
    {
     "data": {
      "text/plain": [
       "['FS INT LIN',\n",
       " 'SS INT LIN',\n",
       " 'CD34 FITC',\n",
       " 'CD13 PE',\n",
       " 'CD38 ECD',\n",
       " 'CD7 PC5.5',\n",
       " 'CD33 PC7',\n",
       " 'CD56 APC',\n",
       " 'APC700',\n",
       " 'CD117 APC750',\n",
       " 'HLA-DR PB',\n",
       " 'CD45 KO',\n",
       " 'TIME']"
      ]
     },
     "execution_count": 11,
     "metadata": {},
     "output_type": "execute_result"
    }
   ],
   "source": [
    "sample.pns_labels"
   ]
  },
  {
   "cell_type": "code",
   "execution_count": 16,
   "metadata": {},
   "outputs": [],
   "source": [
    "p = sample.plot_scatter(lmap[\"CD7 PC5.5\"], lmap[\"CD38 ECD\"])\n",
    "show(p)\n",
    "p = sample.plot_scatter(\n",
    "    lmap[\"CD45 KO\"],\n",
    "    lmap[\"SS INT LIN\"],\n",
    "    source=\"raw\"\n",
    ")\n",
    "show(p)\n",
    "\n"
   ]
  }
 ],
 "metadata": {
  "kernelspec": {
   "display_name": "flowcyt",
   "language": "python",
   "name": "python3"
  },
  "language_info": {
   "codemirror_mode": {
    "name": "ipython",
    "version": 3
   },
   "file_extension": ".py",
   "mimetype": "text/x-python",
   "name": "python",
   "nbconvert_exporter": "python",
   "pygments_lexer": "ipython3",
   "version": "3.12.2"
  }
 },
 "nbformat": 4,
 "nbformat_minor": 2
}
